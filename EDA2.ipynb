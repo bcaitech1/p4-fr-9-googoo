{
 "cells": [
  {
   "cell_type": "code",
   "execution_count": null,
   "metadata": {},
   "outputs": [],
   "source": [
    "!tensorboard --logdir=./log/ --host http://101.101.219.69 --port 6009"
   ]
  },
  {
   "cell_type": "code",
   "execution_count": 1,
   "metadata": {},
   "outputs": [
    {
     "data": {
      "text/plain": [
       "'\\noriginal code source : https://www.kaggle.com/aidapearson/eda-starter-notebook\\n'"
      ]
     },
     "execution_count": 1,
     "metadata": {},
     "output_type": "execute_result"
    }
   ],
   "source": [
    "'''\n",
    "original code source : https://www.kaggle.com/aidapearson/eda-starter-notebook\n",
    "'''"
   ]
  },
  {
   "cell_type": "code",
   "execution_count": 1,
   "metadata": {},
   "outputs": [],
   "source": [
    "%matplotlib inline\n",
    "import glob\n",
    "import json\n",
    "import matplotlib.pyplot as plt\n",
    "import pandas as pd\n",
    "import seaborn as sns\n",
    "from PIL import Image"
   ]
  },
  {
   "cell_type": "code",
   "execution_count": 2,
   "metadata": {},
   "outputs": [],
   "source": [
    "import matplotlib.image as mpimg"
   ]
  },
  {
   "cell_type": "code",
   "execution_count": 3,
   "metadata": {},
   "outputs": [],
   "source": [
    "from IPython.core.interactiveshell import InteractiveShell\n",
    "InteractiveShell.ast_node_interactivity = \"all\""
   ]
  },
  {
   "cell_type": "code",
   "execution_count": 14,
   "metadata": {},
   "outputs": [],
   "source": [
    "def create_data_frame(default_image_path:str,data_path:str,level_path:str,source_path:str):\n",
    "    data = {}\n",
    "    data['latex'] = []\n",
    "    data['latex_str']=[] # 추가 1\n",
    "    data['seq_len'] = []\n",
    "    data['aspect_ratio'] = []\n",
    "    data['image_width'] = []\n",
    "    data['image_height'] = []\n",
    "    data['level']=[]\n",
    "    data['source']=[]\n",
    "    data['img_name']=[] # 추가 2\n",
    "    all_latex_list = []\n",
    "    lv1_latex_list=[]\n",
    "    lv2_latex_list=[]\n",
    "    lv3_latex_list=[]\n",
    "    lv4_latex_list=[]\n",
    "    lv5_latex_list=[]\n",
    "    invisible_list=[]\n",
    "    with open(level_path) as f:\n",
    "        level_info={}\n",
    "        for line in f:\n",
    "            path,level=line.replace(\"\\n\",\"\").split(\"\\t\")\n",
    "            level_info[path]=int(level)\n",
    "            data['img_name'].append(path) # 추가 3\n",
    "            \n",
    "    with open(source_path) as f:\n",
    "        source_info={}\n",
    "        for line in f:\n",
    "            path,source=line.replace(\"\\n\",\"\").split(\"\\t\")\n",
    "            source_info[path]=str(source)\n",
    "            \n",
    "    with open(data_path) as f:\n",
    "        for idx,line in enumerate(f):\n",
    "            image_path,latex=line.replace(\"\\n\",\"\").split(\"\\t\")\n",
    "            image = Image.open(default_image_path+image_path)\n",
    "            width, height = image.size\n",
    "            data['aspect_ratio'].append(round(width / height,1))\n",
    "            data['image_width'].append(int(width))\n",
    "            data['image_height'].append(int(height))\n",
    "            data['latex_str'].append(latex) # 추가 4\n",
    "            latex=latex.split(\" \")\n",
    "            if \"\\left.\" in latex or \"\\right.\" in latex:\n",
    "                invisible_list.append(idx)\n",
    "            data['latex'].append(latex)\n",
    "            data['seq_len'].append(len(latex))\n",
    "            level=level_info[image_path]\n",
    "            data['level'].append(level)\n",
    "            source=source_info[image_path]\n",
    "            data['source'].append(source)\n",
    "            all_latex_list += latex\n",
    "            if level==1:\n",
    "                lv1_latex_list += latex\n",
    "            elif level==2:\n",
    "                lv2_latex_list += latex\n",
    "            elif level==3:\n",
    "                lv3_latex_list += latex\n",
    "            elif level==4:\n",
    "                lv4_latex_list += latex\n",
    "            else:\n",
    "                lv5_latex_list += latex\n",
    "    df = pd.DataFrame.from_dict(data)\n",
    "    lv_latex_list=[lv1_latex_list,lv2_latex_list,lv3_latex_list,lv4_latex_list,lv5_latex_list]\n",
    "    return df, all_latex_list,lv_latex_list, invisible_list"
   ]
  },
  {
   "cell_type": "code",
   "execution_count": 11,
   "metadata": {
    "tags": []
   },
   "outputs": [],
   "source": [
    "default_image_path=\"/opt/ml/input/data/train_dataset/images/\"\n",
    "\n",
    "def latex_to_img(img_num:int):\n",
    "    a = df.iloc[img_num]['latex_str']\n",
    "    ax = plt.axes([0,0,0.2,0.2]) #left,bottom,width,height\n",
    "    ax.set_xticks([])\n",
    "    ax.set_yticks([])\n",
    "    ax.axis('off')\n",
    "    plt.text(0.3,0.5,'$%s$' %a, size=35,color=\"green\")\n",
    "    plt.show()\n",
    "\n",
    "def origin_img(img_num:int):\n",
    "    img_name = df.iloc[img_num]['img_name']\n",
    "    img = mpimg.imread(default_image_path+img_name)\n",
    "    plt.grid(True, color='w')\n",
    "    plt.imshow(img)\n",
    "    plt.show()\n",
    "\n",
    "def compare_img_gt(img_num:int, visible_infos=False):\n",
    "    # original img\n",
    "    origin_img(img_num)\n",
    "    \n",
    "#     box1 = {'boxstyle': 'round',\n",
    "#         'ec': (0.5, 0.3, 0.3), # edgecolor\n",
    "#         'fc': (0.5, 0.8, 0.8)} # facecolor\n",
    "    # 변경 ============================================================\n",
    "    level_color=[\n",
    "        'turquoise',\n",
    "        'lightgreen',\n",
    "        'gold',\n",
    "        'sandybrown',\n",
    "        'salmon'\n",
    "    ]\n",
    "\n",
    "    box1 = {'boxstyle': 'round',\n",
    "        'ec': (0.1, 0.1, 0.1), # edgecolor\n",
    "        'fc': level_color[int(df.iloc[img_num]['level'])]} # (0.5, 0.8, 0.8)} # facecolor\n",
    "    # ===================================================================\n",
    "    # ground truth latex to img\n",
    "    latex_to_img(img_num)\n",
    "    \n",
    "    if visible_infos:\n",
    "        display(df.iloc[img_num][1:])"
   ]
  },
  {
   "cell_type": "code",
   "execution_count": 15,
   "metadata": {},
   "outputs": [],
   "source": [
    "df, all_latex_list, lv_latex_list, invisible_list = create_data_frame(\n",
    "    default_image_path=\"/opt/ml/input/data/train_dataset/images/\",\n",
    "    data_path=\"/opt/ml/input/data/train_dataset/gt.txt\",\n",
    "    level_path=\"/opt/ml/input/data/train_dataset/level.txt\",\n",
    "    source_path=\"/opt/ml/input/data/train_dataset/source.txt\"\n",
    ")"
   ]
  },
  {
   "cell_type": "code",
   "execution_count": 7,
   "metadata": {},
   "outputs": [
    {
     "data": {
      "text/plain": [
       "Index(['latex', 'latex_str', 'seq_len', 'aspect_ratio', 'image_width',\n",
       "       'image_height', 'level', 'source', 'img_name'],\n",
       "      dtype='object')"
      ]
     },
     "execution_count": 7,
     "metadata": {},
     "output_type": "execute_result"
    }
   ],
   "source": [
    "df.columns"
   ]
  },
  {
   "cell_type": "code",
   "execution_count": 8,
   "metadata": {},
   "outputs": [
    {
     "data": {
      "text/html": [
       "<div>\n",
       "<style scoped>\n",
       "    .dataframe tbody tr th:only-of-type {\n",
       "        vertical-align: middle;\n",
       "    }\n",
       "\n",
       "    .dataframe tbody tr th {\n",
       "        vertical-align: top;\n",
       "    }\n",
       "\n",
       "    .dataframe thead th {\n",
       "        text-align: right;\n",
       "    }\n",
       "</style>\n",
       "<table border=\"1\" class=\"dataframe\">\n",
       "  <thead>\n",
       "    <tr style=\"text-align: right;\">\n",
       "      <th></th>\n",
       "      <th>seq_len</th>\n",
       "      <th>aspect_ratio</th>\n",
       "      <th>image_width</th>\n",
       "      <th>image_height</th>\n",
       "      <th>level</th>\n",
       "    </tr>\n",
       "  </thead>\n",
       "  <tbody>\n",
       "    <tr>\n",
       "      <th>count</th>\n",
       "      <td>100000.000000</td>\n",
       "      <td>100000.000000</td>\n",
       "      <td>100000.000000</td>\n",
       "      <td>100000.000000</td>\n",
       "      <td>100000.000000</td>\n",
       "    </tr>\n",
       "    <tr>\n",
       "      <th>mean</th>\n",
       "      <td>17.536930</td>\n",
       "      <td>4.344388</td>\n",
       "      <td>1309.317910</td>\n",
       "      <td>333.098100</td>\n",
       "      <td>2.392250</td>\n",
       "    </tr>\n",
       "    <tr>\n",
       "      <th>std</th>\n",
       "      <td>14.952702</td>\n",
       "      <td>2.484526</td>\n",
       "      <td>1120.911322</td>\n",
       "      <td>312.306097</td>\n",
       "      <td>0.845575</td>\n",
       "    </tr>\n",
       "    <tr>\n",
       "      <th>min</th>\n",
       "      <td>1.000000</td>\n",
       "      <td>0.100000</td>\n",
       "      <td>35.000000</td>\n",
       "      <td>20.000000</td>\n",
       "      <td>1.000000</td>\n",
       "    </tr>\n",
       "    <tr>\n",
       "      <th>25%</th>\n",
       "      <td>7.000000</td>\n",
       "      <td>2.600000</td>\n",
       "      <td>563.000000</td>\n",
       "      <td>173.000000</td>\n",
       "      <td>2.000000</td>\n",
       "    </tr>\n",
       "    <tr>\n",
       "      <th>50%</th>\n",
       "      <td>13.000000</td>\n",
       "      <td>3.800000</td>\n",
       "      <td>1012.000000</td>\n",
       "      <td>255.000000</td>\n",
       "      <td>2.000000</td>\n",
       "    </tr>\n",
       "    <tr>\n",
       "      <th>75%</th>\n",
       "      <td>23.000000</td>\n",
       "      <td>5.500000</td>\n",
       "      <td>1732.000000</td>\n",
       "      <td>393.000000</td>\n",
       "      <td>3.000000</td>\n",
       "    </tr>\n",
       "    <tr>\n",
       "      <th>max</th>\n",
       "      <td>252.000000</td>\n",
       "      <td>33.900000</td>\n",
       "      <td>11810.000000</td>\n",
       "      <td>10020.000000</td>\n",
       "      <td>5.000000</td>\n",
       "    </tr>\n",
       "  </tbody>\n",
       "</table>\n",
       "</div>"
      ],
      "text/plain": [
       "             seq_len   aspect_ratio    image_width   image_height  \\\n",
       "count  100000.000000  100000.000000  100000.000000  100000.000000   \n",
       "mean       17.536930       4.344388    1309.317910     333.098100   \n",
       "std        14.952702       2.484526    1120.911322     312.306097   \n",
       "min         1.000000       0.100000      35.000000      20.000000   \n",
       "25%         7.000000       2.600000     563.000000     173.000000   \n",
       "50%        13.000000       3.800000    1012.000000     255.000000   \n",
       "75%        23.000000       5.500000    1732.000000     393.000000   \n",
       "max       252.000000      33.900000   11810.000000   10020.000000   \n",
       "\n",
       "               level  \n",
       "count  100000.000000  \n",
       "mean        2.392250  \n",
       "std         0.845575  \n",
       "min         1.000000  \n",
       "25%         2.000000  \n",
       "50%         2.000000  \n",
       "75%         3.000000  \n",
       "max         5.000000  "
      ]
     },
     "execution_count": 8,
     "metadata": {},
     "output_type": "execute_result"
    }
   ],
   "source": [
    "df.describe()"
   ]
  },
  {
   "cell_type": "code",
   "execution_count": 19,
   "metadata": {},
   "outputs": [
    {
     "data": {
      "text/html": [
       "<div>\n",
       "<style scoped>\n",
       "    .dataframe tbody tr th:only-of-type {\n",
       "        vertical-align: middle;\n",
       "    }\n",
       "\n",
       "    .dataframe tbody tr th {\n",
       "        vertical-align: top;\n",
       "    }\n",
       "\n",
       "    .dataframe thead th {\n",
       "        text-align: right;\n",
       "    }\n",
       "</style>\n",
       "<table border=\"1\" class=\"dataframe\">\n",
       "  <thead>\n",
       "    <tr style=\"text-align: right;\">\n",
       "      <th></th>\n",
       "      <th>latex</th>\n",
       "      <th>latex_str</th>\n",
       "      <th>seq_len</th>\n",
       "      <th>aspect_ratio</th>\n",
       "      <th>image_width</th>\n",
       "      <th>image_height</th>\n",
       "      <th>level</th>\n",
       "      <th>source</th>\n",
       "      <th>img_name</th>\n",
       "    </tr>\n",
       "  </thead>\n",
       "  <tbody>\n",
       "    <tr>\n",
       "      <th>0</th>\n",
       "      <td>[4, \\times, 7, =, 2, 8]</td>\n",
       "      <td>4 \\times 7 = 2 8</td>\n",
       "      <td>6</td>\n",
       "      <td>4.2</td>\n",
       "      <td>903</td>\n",
       "      <td>213</td>\n",
       "      <td>1</td>\n",
       "      <td>1</td>\n",
       "      <td>train_00000.jpg</td>\n",
       "    </tr>\n",
       "    <tr>\n",
       "      <th>1</th>\n",
       "      <td>[a, ^, {, x, }, &gt;, q]</td>\n",
       "      <td>a ^ { x } &gt; q</td>\n",
       "      <td>7</td>\n",
       "      <td>3.7</td>\n",
       "      <td>435</td>\n",
       "      <td>118</td>\n",
       "      <td>2</td>\n",
       "      <td>0</td>\n",
       "      <td>train_00001.jpg</td>\n",
       "    </tr>\n",
       "    <tr>\n",
       "      <th>2</th>\n",
       "      <td>[8, \\times, 9]</td>\n",
       "      <td>8 \\times 9</td>\n",
       "      <td>3</td>\n",
       "      <td>2.0</td>\n",
       "      <td>348</td>\n",
       "      <td>172</td>\n",
       "      <td>2</td>\n",
       "      <td>0</td>\n",
       "      <td>train_00002.jpg</td>\n",
       "    </tr>\n",
       "    <tr>\n",
       "      <th>3</th>\n",
       "      <td>[\\sum, _, {, k, =, 1, }, ^, {, n, -, 1, }, b, ...</td>\n",
       "      <td>\\sum _ { k = 1 } ^ { n - 1 } b _ { k } = a _ {...</td>\n",
       "      <td>30</td>\n",
       "      <td>3.2</td>\n",
       "      <td>964</td>\n",
       "      <td>299</td>\n",
       "      <td>3</td>\n",
       "      <td>1</td>\n",
       "      <td>train_00003.jpg</td>\n",
       "    </tr>\n",
       "    <tr>\n",
       "      <th>4</th>\n",
       "      <td>[I, =, d, q, /, d, t]</td>\n",
       "      <td>I = d q / d t</td>\n",
       "      <td>7</td>\n",
       "      <td>3.4</td>\n",
       "      <td>700</td>\n",
       "      <td>208</td>\n",
       "      <td>4</td>\n",
       "      <td>0</td>\n",
       "      <td>train_00004.jpg</td>\n",
       "    </tr>\n",
       "  </tbody>\n",
       "</table>\n",
       "</div>"
      ],
      "text/plain": [
       "                                               latex  \\\n",
       "0                            [4, \\times, 7, =, 2, 8]   \n",
       "1                              [a, ^, {, x, }, >, q]   \n",
       "2                                     [8, \\times, 9]   \n",
       "3  [\\sum, _, {, k, =, 1, }, ^, {, n, -, 1, }, b, ...   \n",
       "4                              [I, =, d, q, /, d, t]   \n",
       "\n",
       "                                           latex_str  seq_len  aspect_ratio  \\\n",
       "0                                   4 \\times 7 = 2 8        6           4.2   \n",
       "1                                      a ^ { x } > q        7           3.7   \n",
       "2                                         8 \\times 9        3           2.0   \n",
       "3  \\sum _ { k = 1 } ^ { n - 1 } b _ { k } = a _ {...       30           3.2   \n",
       "4                                      I = d q / d t        7           3.4   \n",
       "\n",
       "   image_width  image_height  level source         img_name  \n",
       "0          903           213      1      1  train_00000.jpg  \n",
       "1          435           118      2      0  train_00001.jpg  \n",
       "2          348           172      2      0  train_00002.jpg  \n",
       "3          964           299      3      1  train_00003.jpg  \n",
       "4          700           208      4      0  train_00004.jpg  "
      ]
     },
     "execution_count": 19,
     "metadata": {},
     "output_type": "execute_result"
    }
   ],
   "source": [
    "df.head()"
   ]
  },
  {
   "cell_type": "code",
   "execution_count": 18,
   "metadata": {},
   "outputs": [
    {
     "name": "stdout",
     "output_type": "stream",
     "text": [
      "====================== print all ========================== \n"
     ]
    },
    {
     "data": {
      "image/png": "[encoded data removed]",
      "text/plain": [
       "<Figure size 432x288 with 1 Axes>"
      ]
     },
     "metadata": {
      "needs_background": "light"
     },
     "output_type": "display_data"
    },
    {
     "data": {
      "image/png": "[encoded data removed]",
      "text/plain": [
       "<Figure size 432x288 with 1 Axes>"
      ]
     },
     "metadata": {},
     "output_type": "display_data"
    },
    {
     "data": {
      "text/plain": [
       "latex_str       \\left. L ^ { - 1 } \\left( \\frac { 1 } { 2 s } ...\n",
       "seq_len                                                        56\n",
       "aspect_ratio                                                  5.5\n",
       "image_width                                                  2300\n",
       "image_height                                                  415\n",
       "level                                                           3\n",
       "source                                                          1\n",
       "img_name                                          train_00280.jpg\n",
       "Name: 280, dtype: object"
      ]
     },
     "metadata": {},
     "output_type": "display_data"
    }
   ],
   "source": [
    "num = invisible_list[1]\n",
    "# print(\"==================== print latex to img ==================== \")\n",
    "# latex_to_img(img_num=num) # 출력하고싶은 수식의 번호(TeX plot)\n",
    "\n",
    "# print(\"===================== print origin img ==================== \")\n",
    "# origin_img(img_num=num) # 원본 이미지 출력\n",
    "\n",
    "print(\"====================== print all ========================== \")\n",
    "compare_img_gt(img_num=num, visible_infos=True) # 원본 이미지, 정답 수식, 데이터 정보(True 설정 시)"
   ]
  }
 ],
 "metadata": {
  "kernelspec": {
   "display_name": "Python 3",
   "language": "python",
   "name": "python3"
  },
  "language_info": {
   "codemirror_mode": {
    "name": "ipython",
    "version": 3
   },
   "file_extension": ".py",
   "mimetype": "text/x-python",
   "name": "python",
   "nbconvert_exporter": "python",
   "pygments_lexer": "ipython3",
   "version": "3.7.7"
  }
 },
 "nbformat": 4,
 "nbformat_minor": 4
}
