{
 "cells": [
  {
   "cell_type": "code",
   "execution_count": null,
   "id": "4380dad4-143e-4195-8029-784c73b00b38",
   "metadata": {},
   "outputs": [],
   "source": [
    "'''\n",
    "https://ponyozzang.tistory.com/600\n",
    "파이썬의 Pillow (PIL) 라이브러리의 resize 활용\n",
    "'''"
   ]
  },
  {
   "cell_type": "code",
   "execution_count": 2,
   "id": "442cb3b6-3797-44ce-b95a-7972d6b6dfed",
   "metadata": {},
   "outputs": [],
   "source": [
    "import os\n",
    "from glob import glob\n",
    "from PIL import Image\n",
    "\n",
    "files = glob('/opt/ml/input/data/train_dataset/images/*')"
   ]
  },
  {
   "cell_type": "code",
   "execution_count": 12,
   "id": "3c01b9c4-c803-4922-bf45-9244c13ba3b2",
   "metadata": {},
   "outputs": [],
   "source": [
    "for f in files:\n",
    "    try:\n",
    "        image = Image.open(f)\n",
    "        image_resized = image.resize((128, 128))\n",
    "        name = f.split('/')[-1]\n",
    "        image_resized.save('/opt/ml/input/data/train_dataset/half_images/'+ name)\n",
    "    except OSError as e:\n",
    "        print(f'error at {f}: {e}')"
   ]
  }
 ],
 "metadata": {
  "kernelspec": {
   "display_name": "Python 3",
   "language": "python",
   "name": "python3"
  },
  "language_info": {
   "codemirror_mode": {
    "name": "ipython",
    "version": 3
   },
   "file_extension": ".py",
   "mimetype": "text/x-python",
   "name": "python",
   "nbconvert_exporter": "python",
   "pygments_lexer": "ipython3",
   "version": "3.7.7"
  }
 },
 "nbformat": 4,
 "nbformat_minor": 5
}
